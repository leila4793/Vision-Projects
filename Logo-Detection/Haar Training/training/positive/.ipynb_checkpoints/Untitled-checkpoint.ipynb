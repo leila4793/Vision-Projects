{
 "cells": [
  {
   "cell_type": "code",
   "execution_count": null,
   "id": "d70625b5-eb43-46e2-a555-2591b6e9e244",
   "metadata": {},
   "outputs": [],
   "source": []
  }
 ],
 "metadata": {
  "kernelspec": {
   "display_name": "Python [conda env:base]",
   "language": "python",
   "name": "conda-base-py"
  },
  "language_info": {
   "name": ""
  }
 },
 "nbformat": 4,
 "nbformat_minor": 5
}
