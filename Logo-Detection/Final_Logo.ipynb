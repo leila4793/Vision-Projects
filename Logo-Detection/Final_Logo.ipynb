{
 "cells": [
  {
   "cell_type": "markdown",
   "id": "14b4d381-8f98-4b24-9aae-ea6f41d091f9",
   "metadata": {},
   "source": [
    "### \"Read file\""
   ]
  },
  {
   "cell_type": "code",
   "execution_count": 27,
   "id": "bac920fc-b7ff-4b70-a81f-e1562326be84",
   "metadata": {},
   "outputs": [
    {
     "name": "stdout",
     "output_type": "stream",
     "text": [
      "Number of images: 562\n"
     ]
    }
   ],
   "source": [
    "import os\n",
    "\n",
    "# Folder path\n",
    "folder_path = \"Selected_Brands_Images1/Original\"\n",
    "\n",
    "# Common image extensions\n",
    "image_extensions = {\".jpg\", \".jpeg\", \".png\", \".gif\", \".bmp\", \".tiff\", \".webp\"}\n",
    "\n",
    "# Count image files\n",
    "def count_images(folder):\n",
    "    if not os.path.exists(folder):\n",
    "        print(\"Folder not found!\")\n",
    "        return 0\n",
    "    return sum(1 for file in os.listdir(folder) if os.path.splitext(file)[1].lower() in image_extensions)\n",
    "\n",
    "# Run function\n",
    "image_count = count_images(folder_path)\n",
    "print(f\"Number of images: {image_count}\")\n",
    "\n"
   ]
  },
  {
   "cell_type": "markdown",
   "id": "5a3137b6-c716-49e9-be07-8ddf87863909",
   "metadata": {},
   "source": [
    "#### This script removes duplicate images and keeps only PNG and JPG files:\n"
   ]
  },
  {
   "cell_type": "code",
   "execution_count": null,
   "id": "ee3886c8-47b9-40b6-9a8c-292da61caf45",
   "metadata": {},
   "outputs": [],
   "source": [
    "import os\n",
    "\n",
    "# Folder path\n",
    "folder_path = \"Selected_Brands_Images1/Original\"\n",
    "\n",
    "# Allowed extensions\n",
    "allowed_extensions = {\".jpg\", \".jpeg\", \".png\"}\n",
    "\n",
    "# Remove unwanted files\n",
    "def remove_unwanted_files(folder):\n",
    "    if not os.path.exists(folder):\n",
    "        print(\"Folder not found!\")\n",
    "        return\n",
    "    \n",
    "    for file in os.listdir(folder):\n",
    "        file_path = os.path.join(folder, file)\n",
    "        ext = os.path.splitext(file)[1].lower()\n",
    "        \n",
    "        if os.path.isfile(file_path) and ext not in allowed_extensions:\n",
    "            os.remove(file_path)\n",
    "            print(f\"Deleted: {file}\")\n",
    "\n",
    "# Run the function\n",
    "remove_unwanted_files(folder_path)\n",
    "print(\"Cleanup complete. Only PNG & JPG files remain.\")\n",
    "\n"
   ]
  },
  {
   "cell_type": "markdown",
   "id": "7655fa22-835d-48bd-ae2b-c7fdacec9bc4",
   "metadata": {
    "jp-MarkdownHeadingCollapsed": true
   },
   "source": [
    "### Changing brand names, organizing, and counting each brand."
   ]
  },
  {
   "cell_type": "code",
   "execution_count": null,
   "id": "14ca2e28-d65d-4621-971f-27562a1f5aa9",
   "metadata": {},
   "outputs": [],
   "source": [
    "import os\n",
    "\n",
    "# The path of the folder where the files are located\n",
    "folder_path = \"Selected_Brands_Images1/Original\"  # Enter your folder path here\n",
    "\n",
    "# List of brands that need to be renamed\n",
    "top_20_brands = ['Apple', 'Microsoft', 'Google', 'Amazon', 'Samsung', 'Tesla', 'Nike', 'Adidas',\n",
    "                 'Toyota', 'Mercedes', 'Bmw', 'Disney', 'Pepsi', 'Visa', 'Mastercard', 'Netflix', \n",
    "                 'Sony', 'Intel', 'Starbucks', 'Youtube']\n",
    "\n",
    "# Counter for each brand\n",
    "brand_counters = {brand: 0 for brand in top_20_brands}\n",
    "\n",
    "# Get all the files in the folder\n",
    "files = os.listdir(folder_path)\n",
    "\n",
    "# Process the files\n",
    "for file in files:\n",
    "    file_path = os.path.join(folder_path, file)\n",
    "    \n",
    "    # Check if the file name includes any of the brands\n",
    "    for brand in top_20_brands:\n",
    "        if brand.lower() in file.lower():  # Case-insensitive check\n",
    "            extension = os.path.splitext(file)[1]  # Extract file extension\n",
    "            new_name = f\"{brand.capitalize()}{brand_counters[brand] + 1}{extension}\"  # New name\n",
    "\n",
    "            # Check if a file with this name already exists\n",
    "            new_path = os.path.join(folder_path, new_name)\n",
    "            count = 1\n",
    "            while os.path.exists(new_path):  # If a file with this name exists\n",
    "                new_name = f\"{brand.capitalize()}{brand_counters[brand] + 1}_{count}{extension}\"\n",
    "                new_path = os.path.join(folder_path, new_name)\n",
    "                count += 1\n",
    "            \n",
    "            # Rename the file\n",
    "            os.rename(file_path, new_path)\n",
    "            print(f\"Renamed: {file} → {new_name}\")\n",
    "            \n",
    "            # Increase the counter for the brand\n",
    "            brand_counters[brand] += 1\n",
    "            break  # Prevent renaming the same file multiple times\n",
    "\n",
    "# Display the number of files for each brand\n",
    "print(\"\\nNumber of files for each brand:\")\n",
    "for brand, count in brand_counters.items():\n",
    "    print(f\"{brand.capitalize()}: {count}\")\n"
   ]
  },
  {
   "cell_type": "code",
   "execution_count": 25,
   "id": "3fee0863-d292-4fe8-9381-c2fb1a67dd5e",
   "metadata": {},
   "outputs": [
    {
     "name": "stdout",
     "output_type": "stream",
     "text": [
      "Number of files for each brand:\n",
      "Apple: 29\n",
      "Microsoft: 24\n",
      "Google: 34\n",
      "Amazon: 24\n",
      "Samsung: 28\n",
      "Tesla: 25\n",
      "Nike: 34\n",
      "Adidas: 25\n",
      "Toyota: 28\n",
      "Mercedes: 29\n",
      "Bmw: 24\n",
      "Disney: 29\n",
      "Pepsi: 25\n",
      "Visa: 25\n",
      "Mastercard: 20\n",
      "Netflix: 24\n",
      "Sony: 22\n",
      "Intel: 0\n",
      "Starbucks: 0\n",
      "Youtube: 32\n"
     ]
    }
   ],
   "source": [
    "import os\n",
    "\n",
    "folder_path = \"Selected_Brands_Images1/Original\"  # Path to the logo folder\n",
    "\n",
    "# List of brands with the first letter capitalized\n",
    "top_20_brands = [\n",
    "    \"Apple\", \"Microsoft\", \"Google\", \"Amazon\", \"Samsung\", \"Tesla\", \"Nike\", \"Adidas\",\n",
    "    \"Toyota\", \"Mercedes\", \"Bmw\", \"Disney\", \"Pepsi\", \"Visa\", \"Mastercard\", \"Netflix\",\n",
    "    \"Sony\", \"Intel\", \"Starbucks\", \"Youtube\"\n",
    "]\n",
    "\n",
    "# Counting the number of files for each brand\n",
    "brand_counts = {brand: 0 for brand in top_20_brands}\n",
    "\n",
    "# Checking the files in the folder\n",
    "for filename in os.listdir(folder_path):\n",
    "    for brand in top_20_brands:\n",
    "        if filename.lower().startswith(brand.lower()) and filename.endswith(\".png\"):\n",
    "            brand_counts[brand] += 1\n",
    "\n",
    "# Displaying the results\n",
    "print(\"Number of files for each brand:\")\n",
    "for brand, count in brand_counts.items():\n",
    "    print(f\"{brand}: {count}\")\n",
    "\n"
   ]
  },
  {
   "cell_type": "markdown",
   "id": "b7eefaad-db80-43e7-ad5c-adeed094a4f8",
   "metadata": {
    "jp-MarkdownHeadingCollapsed": true
   },
   "source": [
    "### Save to CSV file"
   ]
  },
  {
   "cell_type": "code",
   "execution_count": 3,
   "id": "2cd958dc-09a9-4ef6-8af0-60bcd98df452",
   "metadata": {},
   "outputs": [
    {
     "name": "stdout",
     "output_type": "stream",
     "text": [
      "✅ 562 images added to Top_20_Brands.csv!\n"
     ]
    }
   ],
   "source": [
    "import os\n",
    "\n",
    "folder_path = \"Selected_Brands_Images1/Original\"  # Path to the folder of logos\n",
    "\n",
    "# List of brands with the first letter capitalized\n",
    "top_20_brands = [\n",
    "    \"Apple\", \"Microsoft\", \"Google\", \"Amazon\", \"Samsung\", \"Tesla\", \"Nike\", \"Adidas\",\n",
    "    \"Toyota\", \"Mercedes\", \"Bmw\", \"Disney\", \"Pepsi\", \"Visa\", \"Mastercard\", \"Netflix\",\n",
    "    \"Sony\", \"Intel\", \"Starbucks\", \"Youtube\"\n",
    "]\n",
    "\n",
    "# Counting the number of files for each brand\n",
    "brand_counts = {brand: 0 for brand in top_20_brands}\n",
    "\n",
    "# Checking the files in the folder\n",
    "for filename in os.listdir(folder_path):\n",
    "    for brand in top_20_brands:\n",
    "        if filename.lower().startswith(brand.lower()) and filename.endswith(\".png\"):\n",
    "            brand_counts[brand] += 1\n",
    "\n",
    "# Displaying the results\n",
    "print(\"Number of files for each brand:\")\n",
    "for brand, count in brand_counts.items():\n",
    "    print(f\"{brand}: {count}\")\n",
    "\n"
   ]
  },
  {
   "cell_type": "code",
   "execution_count": 4,
   "id": "52a76e74-36ac-4140-977d-8aedb6f5ee46",
   "metadata": {},
   "outputs": [
    {
     "name": "stdout",
     "output_type": "stream",
     "text": [
      "{'encoding': 'ascii', 'confidence': 1.0, 'language': ''}\n",
      "Index(['logoName', 'fileName', 'brand'], dtype='object')\n"
     ]
    }
   ],
   "source": [
    "import chardet\n",
    "\n",
    "with open(\"Top_20_Brands.csv\", \"rb\") as f:\n",
    "    result = chardet.detect(f.read())\n",
    "    print(result)  # نمایش انکدینگ فایل\n",
    "print(df.columns)"
   ]
  },
  {
   "cell_type": "code",
   "execution_count": 5,
   "id": "e7f4e7b3-0bc8-43d2-9bec-f9362dc77ea2",
   "metadata": {},
   "outputs": [
    {
     "name": "stdout",
     "output_type": "stream",
     "text": [
      "       logoName      fileName         brand\n",
      "0   Adidas1.png   Adidas1.png   Adidas1.png\n",
      "1  Adidas10.png  Adidas10.png  Adidas10.png\n",
      "2  Adidas11.png  Adidas11.png  Adidas11.png\n",
      "3  Adidas12.png  Adidas12.png  Adidas12.png\n",
      "4  Adidas13.png  Adidas13.png  Adidas13.png\n"
     ]
    }
   ],
   "source": [
    "import pandas as pd\n",
    "\n",
    "# خواندن فایل با انکدینگ درست\n",
    "df = pd.read_csv(\"Top_20_Brands.csv\", encoding=\"ISO-8859-1\")\n",
    "\n",
    "# نمایش ۵ سطر اول برای اطمینان\n",
    "print(df.head())\n"
   ]
  },
  {
   "cell_type": "code",
   "execution_count": 6,
   "id": "c1ec03dc-1258-4e6c-b819-b7ed5146b4d9",
   "metadata": {},
   "outputs": [
    {
     "name": "stdout",
     "output_type": "stream",
     "text": [
      "         logoName      fileName         brand\n",
      "0     Adidas1.png   Adidas1.png   Adidas1.png\n",
      "1    Adidas10.png  Adidas10.png  Adidas10.png\n",
      "2    Adidas11.png  Adidas11.png  Adidas11.png\n",
      "3    Adidas12.png  Adidas12.png  Adidas12.png\n",
      "4    Adidas13.png  Adidas13.png  Adidas13.png\n",
      "..            ...           ...           ...\n",
      "557  Youtube5.png  Youtube5.png  Youtube5.png\n",
      "558  Youtube6.png  Youtube6.png  Youtube6.png\n",
      "559  Youtube7.png  Youtube7.png  Youtube7.png\n",
      "560  Youtube8.png  Youtube8.png  Youtube8.png\n",
      "561  Youtube9.png  Youtube9.png  Youtube9.png\n",
      "\n",
      "[562 rows x 3 columns]\n",
      "====================================================================================================\n",
      "Index(['logoName', 'fileName', 'brand'], dtype='object')\n",
      "       logoName      fileName         brand\n",
      "0   Adidas1.png   Adidas1.png   Adidas1.png\n",
      "1  Adidas10.png  Adidas10.png  Adidas10.png\n",
      "2  Adidas11.png  Adidas11.png  Adidas11.png\n",
      "3  Adidas12.png  Adidas12.png  Adidas12.png\n",
      "4  Adidas13.png  Adidas13.png  Adidas13.png\n"
     ]
    }
   ],
   "source": [
    "# نمایش اطلاعات فایل\n",
    "print(df)\n",
    "print(100 *\"=\")\n",
    "print(df.columns)\n",
    "# استخراج برند از نام فایل\n",
    "df['brand'] = df['fileName'].apply(lambda x: x.split('-')[0])\n",
    "\n",
    "# ذخیره‌سازی داده‌ها در فایل جدید\n",
    "df.to_csv('Top_20_Brands.csv', index=False)\n",
    "\n",
    "# نمایش نمونه‌ای از داده‌ها برای اطمینان\n",
    "print(df.head())"
   ]
  },
  {
   "cell_type": "code",
   "execution_count": 8,
   "id": "23062706-fc1f-4cba-9e50-5809cdf030f3",
   "metadata": {},
   "outputs": [
    {
     "name": "stdout",
     "output_type": "stream",
     "text": [
      "📌 Total number of images: 562\n",
      "\n",
      "📊 Number of images per brand (Top 20):\n",
      "\n",
      "brand\n",
      "Google        62\n",
      "Nike          35\n",
      "Youtube       32\n",
      "Mercedes      31\n",
      "Apple         31\n",
      "Toyota        30\n",
      "Disney        29\n",
      "Samsung       28\n",
      "Bmw           26\n",
      "Tesla         26\n",
      "Amazon        26\n",
      "Adidas        25\n",
      "Pepsi         25\n",
      "Visa          25\n",
      "Microsoft     25\n",
      "Netflix       24\n",
      "Sony          22\n",
      "Mastercard    21\n",
      "Coca-Cola     19\n",
      "McDonald's    18\n",
      "Name: count, dtype: int64\n"
     ]
    }
   ],
   "source": [
    "import pandas as pd\n",
    "import re  # Import regex module\n",
    "\n",
    "# Read CSV file\n",
    "df = pd.read_csv(\"Top_20_Brands.csv\", encoding=\"ISO-8859-1\")\n",
    "\n",
    "# Check if the 'fileName' column exists\n",
    "if \"fileName\" in df.columns:\n",
    "    # Extract brand name using regex (removes numbers and file extensions)\n",
    "    df[\"brand\"] = df[\"fileName\"].apply(lambda x: re.sub(r\"\\d+.*\", \"\", x).rstrip(\".-_\") if isinstance(x, str) else x)\n",
    "\n",
    "    # Count number of images per brand\n",
    "    brand_counts = df[\"brand\"].value_counts()\n",
    "\n",
    "    # Display total number of images\n",
    "    print(f\"📌 Total number of images: {len(df)}\\n\")\n",
    "\n",
    "    # Display image count for the top 20 brands\n",
    "    print(\"📊 Number of images per brand (Top 20):\\n\")\n",
    "    print(brand_counts.head(20))\n",
    "\n",
    "else:\n",
    "    print(\"🚨 Error: 'fileName' column not found in CSV file!\")\n"
   ]
  },
  {
   "cell_type": "code",
   "execution_count": null,
   "id": "bdca4698-896a-4ba8-82ab-2d6d837fd53f",
   "metadata": {},
   "outputs": [],
   "source": [
    "import os\n",
    "import cv2\n",
    "import matplotlib.pyplot as plt\n",
    "\n",
    "# مسیر فولدر تصاویر\n",
    "images_folder = \"Selected_Brands_Images1/Original\"\n",
    "\n",
    "# دیکشنری برای ذخیره اولین تصویر هر برند\n",
    "brand_images = {}\n",
    "\n",
    "# خواندن نام فایل‌های موجود در پوشه\n",
    "image_files = [f for f in os.listdir(images_folder) if f.lower().endswith(('.png', '.jpg', '.jpeg', '.gif', '.bmp'))]\n",
    "\n",
    "# انتخاب اولین تصویر از هر برند\n",
    "for image in sorted(image_files):  # مرتب‌سازی برای اطمینان از انتخاب درست اولین تصویر\n",
    "    brand_name = image.split(\"_\")[0]  # فرض: نام برند در اول نام فایل قرار دارد، قبل از \"_\"\n",
    "    \n",
    "    if brand_name not in brand_images:  # اگر هنوز از این برند تصویری انتخاب نشده است\n",
    "        brand_images[brand_name] = image\n",
    "\n",
    "# نمایش تصاویر\n",
    "num_brands = len(brand_images)  # تعداد برندها\n",
    "cols = 5  # تعداد ستون‌ها در نمایش\n",
    "rows = (num_brands // cols) + (num_brands % cols > 0)  # محاسبه تعداد ردیف‌ها\n",
    "\n",
    "plt.figure(figsize=(15, 3 * rows))\n",
    "\n",
    "for idx, (brand, image_file) in enumerate(brand_images.items(), 1):\n",
    "    image_path = os.path.join(images_folder, image_file)\n",
    "    \n",
    "    img = cv2.imread(image_path)\n",
    "    if img is not None:\n",
    "        img = cv2.cvtColor(img, cv2.COLOR_BGR2RGB)\n",
    "\n",
    "        plt.subplot(rows, cols, idx)\n",
    "        plt.imshow(img)\n",
    "        plt.title(brand, fontsize=10)\n",
    "        plt.axis(\"off\")\n",
    "\n",
    "plt.tight_layout()\n",
    "plt.show()\n",
    "\n",
    "\n"
   ]
  },
  {
   "cell_type": "markdown",
   "id": "d53a6ef7-9563-41eb-841a-49fef91af21f",
   "metadata": {
    "jp-MarkdownHeadingCollapsed": true
   },
   "source": [
    "### Images size"
   ]
  },
  {
   "cell_type": "code",
   "execution_count": 19,
   "id": "931ec3be-55e4-47e5-83a9-7e4e7454e2a3",
   "metadata": {},
   "outputs": [
    {
     "name": "stdout",
     "output_type": "stream",
     "text": [
      "Skipping Google54.jpg (could not be read).\n",
      "✅ All images resized and saved successfully!\n"
     ]
    }
   ],
   "source": [
    "import os\n",
    "import cv2\n",
    "\n",
    "# Paths\n",
    "images_folder = \"Selected_Brands_Images1\"\n",
    "output_folders = {\n",
    "    \"64x64\": \"Resized_Images/64x64\",\n",
    "    \"128x128\": \"Resized_Images/128x128\",\n",
    "    \"256x256\": \"Resized_Images/256x256\",\n",
    "}\n",
    "\n",
    "# Ensure output directories exist\n",
    "for folder in output_folders.values():\n",
    "    os.makedirs(folder, exist_ok=True)\n",
    "\n",
    "# Read images from the folder\n",
    "image_files = [f for f in os.listdir(images_folder) if f.lower().endswith(('.png', '.jpg', '.jpeg'))]\n",
    "\n",
    "# Process each image\n",
    "for image_file in image_files:\n",
    "    image_path = os.path.join(images_folder, image_file)\n",
    "    \n",
    "    # Read the image\n",
    "    img = cv2.imread(image_path)\n",
    "    if img is None:\n",
    "        print(f\"Skipping {image_file} (could not be read).\")\n",
    "        continue  # Skip unreadable files\n",
    "\n",
    "    # Resize and save in different folders\n",
    "    for size, folder in output_folders.items():\n",
    "        width, height = map(int, size.split(\"x\"))  # Convert \"64x64\" → (64, 64)\n",
    "        resized_img = cv2.resize(img, (width, height))\n",
    "\n",
    "        # Save the resized image\n",
    "        output_path = os.path.join(folder, image_file)\n",
    "        cv2.imwrite(output_path, resized_img)\n",
    "\n",
    "print(\"✅ All images resized and saved successfully!\")\n",
    "\n"
   ]
  },
  {
   "cell_type": "code",
   "execution_count": 28,
   "id": "1707661a-78cd-413d-b7b5-d031d110af90",
   "metadata": {},
   "outputs": [
    {
     "name": "stdout",
     "output_type": "stream",
     "text": [
      "Number of images: 561\n",
      "Number of images: 561\n",
      "Number of images: 561\n"
     ]
    }
   ],
   "source": [
    "import os\n",
    "\n",
    "# مسیر فولدر\n",
    "folder_path = \"Selected_Brands_Images1/Size 64x64\"\n",
    "folder_path1 = \"Selected_Brands_Images1/Size 128x128\"\n",
    "folder_path2 = \"Selected_Brands_Images1/Size 256x256\"\n",
    "\n",
    "# پسوندهای رایج تصاویر\n",
    "image_extensions = {\".jpg\", \".jpeg\", \".png\", \".gif\", \".bmp\", \".tiff\", \".webp\"}\n",
    "\n",
    "# شمارش فایل‌های تصویری\n",
    "def count_images(folder):\n",
    "    if not os.path.exists(folder):\n",
    "        print(\"Folder not found!\")\n",
    "        return 0\n",
    "    return sum(1 for file in os.listdir(folder) if os.path.splitext(file)[1].lower() in image_extensions)\n",
    "\n",
    "# اجرای تابع\n",
    "image_count = count_images(folder_path)\n",
    "image_count1 = count_images(folder_path1)\n",
    "image_count2 = count_images(folder_path2)\n",
    "\n",
    "print(f\"Number of images: {image_count}\")\n",
    "print(f\"Number of images: {image_count1}\")\n",
    "print(f\"Number of images: {image_count2}\")\n",
    "\n"
   ]
  }
 ],
 "metadata": {
  "kernelspec": {
   "display_name": "Python 3 (ipykernel)",
   "language": "python",
   "name": "python3"
  },
  "language_info": {
   "codemirror_mode": {
    "name": "ipython",
    "version": 3
   },
   "file_extension": ".py",
   "mimetype": "text/x-python",
   "name": "python",
   "nbconvert_exporter": "python",
   "pygments_lexer": "ipython3",
   "version": "3.11.2"
  }
 },
 "nbformat": 4,
 "nbformat_minor": 5
}
